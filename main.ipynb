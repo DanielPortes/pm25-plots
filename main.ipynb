{
 "cells": [
  {
   "cell_type": "code",
   "execution_count": 1,
   "outputs": [],
   "source": [
    "# importing libraries\n",
    "import os\n",
    "\n",
    "import numpy as np\n",
    "import pandas as pd\n",
    "import matplotlib.pyplot as plt"
   ],
   "metadata": {
    "collapsed": false,
    "ExecuteTime": {
     "end_time": "2024-03-19T20:47:16.743387Z",
     "start_time": "2024-03-19T20:47:15.482944Z"
    }
   },
   "id": "f4553a7fd327318"
  },
  {
   "cell_type": "code",
   "outputs": [],
   "source": [
    "column_rename_dict = {\n",
    "    \"PM 2,5\": \"PM2.5\",\n",
    "    \"Partículas Respiráveis (<2,5µm)(µg/m3)\": \"PM2.5\",\n",
    "    \"Partículas Inaláveis (<10µm)(µg/m3)\": \"PM10\",\n",
    "    \"Temperatura (ºC)\": \"Temperatura\",\n",
    "    \"Tº\": \"Temperatura\",\n",
    "    \"Radiação Solar (W/m2)\": \"Radiação Solar\",\n",
    "    \"Monóxido de Carbono (ppm)\": \"Monóxido de Carbono\",\n",
    "    \"CO\": \"Monóxido de Carbono\",\n",
    "    \"Velocidade Escalar do Vento (m/s)\": \"Velocidade do Vento\",\n",
    "    \"Direção Escalar do Vento (grau)\": \"Direção do Vento\",\n",
    "    \"Umidade relativa (%)\": \"Umidade Relativa\",\n",
    "    \"Precipitação Pluviométrica (mm)\": \"Precipitação\",\n",
    "    \"Pressão Atmosférica (mmHg)\": \"Pressão Atmosférica\",\n",
    "    \"Dióxido de enxofre (ppb)\": \"Dióxido de Enxofre\",\n",
    "    \"Ozônio (ppb)\": \"Ozônio\",\n",
    "    \"Monóxido de Nitrogênio (ppb)\": \"Monóxido de Nitrogênio\",\n",
    "    \"Óxidos de Nitrogênio (ppb)\": \"Óxidos de Nitrogênio\",\n",
    "    \"Dióxido de Nitrogênio (ppb)\": \"Dióxido de Nitrogênio\",\n",
    "    \"HCT (ppm)\": \"HCT\",\n",
    "    \"CH4 (ppm)\": \"Metano\",\n",
    "    \"HCNM (ppm)\": \"HCNM\",\n",
    "    \"Monóxido de Carbono Média Móvel (ppm)\": \"Monóxido de Carbono Média Móvel\",\n",
    "    \"Data\": \"Data\",\n",
    "    \"Hora\": \"Hora\",\n",
    "    \"Média Horária\": \"Média Horária\",\n",
    "    \"Seno da direção do vento\": \"Seno da Direção do Vento\",\n",
    "    \"Cosseno da direção do vento\": \"Cosseno da Direção do Vento\",\n",
    "    \"Seno ponderado\": \"Seno Ponderado\",\n",
    "    \"Cosseno ponderado\": \"Cosseno Ponderado\",\n",
    "    \"PM10\": \"PM10\",\n",
    "    \"NO2\": \"Dióxido de Nitrogênio\",\n",
    "    \"O3\": \"Ozônio\",\n",
    "    \"SO2\": \"Dióxido de Enxofre\",\n",
    "    \"DV\": \"Direção do Vento\",\n",
    "    \"PP\": \"Pressão Atmosférica\",\n",
    "    \"PA\": \"Precipitação\",\n",
    "    \"VV\": \"Velocidade do Vento\",\n",
    "    \"RS\": \"Radiação Solar\",\n",
    "    \"UR\": \"Umidade Relativa\"\n",
    "}"
   ],
   "metadata": {
    "collapsed": false,
    "ExecuteTime": {
     "end_time": "2024-03-19T20:47:16.753757Z",
     "start_time": "2024-03-19T20:47:16.745164Z"
    }
   },
   "id": "c4c26702c7a004a5",
   "execution_count": 2
  },
  {
   "cell_type": "code",
   "execution_count": 3,
   "outputs": [
    {
     "name": "stdout",
     "output_type": "stream",
     "text": [
      "Estação: Piratininga, Ano: 2022, Dados ausentes de PM2.5: 446/8760 (5.09%)\n",
      "Estação: Piratininga, Ano: 2021, Dados ausentes de PM2.5: 564/8760 (6.44%)\n",
      "Estação: Piratininga, Ano: 2020, Dados ausentes de PM2.5: 989/8784 (11.26%)\n",
      "Estação: Piratininga, Ano: 2019, Dados ausentes de PM2.5: 1316/8760 (15.02%)\n",
      "Estação: Piratininga, Ano: 2018, Dados ausentes de PM2.5: 1299/8760 (14.83%)\n",
      "Estação: Piratininga, Ano: 2017, Dados ausentes de PM2.5: 1313/8760 (14.99%)\n",
      "Estação: Piratininga, Ano: 2016, Dados ausentes de PM2.5: 1248/8784 (14.21%)\n",
      "Estação: Piratininga, Ano: 2015, Dados ausentes de PM2.5: 7635/8760 (87.16%)\n"
     ]
    },
    {
     "name": "stderr",
     "output_type": "stream",
     "text": [
      "C:\\Users\\daniel\\AppData\\Local\\Temp\\ipykernel_18660\\1478680928.py:46: FutureWarning: Downcasting behavior in `replace` is deprecated and will be removed in a future version. To retain the old behavior, explicitly call `result.infer_objects(copy=False)`. To opt-in to the future behavior, set `pd.set_option('future.no_silent_downcasting', True)`\n",
      "  df.replace('*', np.nan, inplace=True)\n"
     ]
    },
    {
     "name": "stdout",
     "output_type": "stream",
     "text": [
      "Estação: Piratininga, Ano: 2014, Dados ausentes de PM2.5: 8760/8760 (100.00%)\n"
     ]
    },
    {
     "name": "stderr",
     "output_type": "stream",
     "text": [
      "C:\\Users\\daniel\\AppData\\Local\\Temp\\ipykernel_18660\\1478680928.py:46: FutureWarning: Downcasting behavior in `replace` is deprecated and will be removed in a future version. To retain the old behavior, explicitly call `result.infer_objects(copy=False)`. To opt-in to the future behavior, set `pd.set_option('future.no_silent_downcasting', True)`\n",
      "  df.replace('*', np.nan, inplace=True)\n"
     ]
    },
    {
     "name": "stdout",
     "output_type": "stream",
     "text": [
      "Estação: Piratininga, Ano: 2013, Dados ausentes de PM2.5: 8760/8760 (100.00%)\n"
     ]
    },
    {
     "name": "stderr",
     "output_type": "stream",
     "text": [
      "C:\\Users\\daniel\\AppData\\Local\\Temp\\ipykernel_18660\\1478680928.py:46: FutureWarning: Downcasting behavior in `replace` is deprecated and will be removed in a future version. To retain the old behavior, explicitly call `result.infer_objects(copy=False)`. To opt-in to the future behavior, set `pd.set_option('future.no_silent_downcasting', True)`\n",
      "  df.replace('*', np.nan, inplace=True)\n"
     ]
    },
    {
     "name": "stdout",
     "output_type": "stream",
     "text": [
      "Estação: Piratininga, Ano: 2012, Dados ausentes de PM2.5: 8784/8784 (100.00%)\n"
     ]
    },
    {
     "name": "stderr",
     "output_type": "stream",
     "text": [
      "C:\\Users\\daniel\\AppData\\Local\\Temp\\ipykernel_18660\\1478680928.py:46: FutureWarning: Downcasting behavior in `replace` is deprecated and will be removed in a future version. To retain the old behavior, explicitly call `result.infer_objects(copy=False)`. To opt-in to the future behavior, set `pd.set_option('future.no_silent_downcasting', True)`\n",
      "  df.replace('*', np.nan, inplace=True)\n"
     ]
    },
    {
     "name": "stdout",
     "output_type": "stream",
     "text": [
      "Estação: Piratininga, Ano: 2011, Dados ausentes de PM2.5: 8760/8760 (100.00%)\n"
     ]
    },
    {
     "name": "stderr",
     "output_type": "stream",
     "text": [
      "C:\\Users\\daniel\\AppData\\Local\\Temp\\ipykernel_18660\\1478680928.py:46: FutureWarning: Downcasting behavior in `replace` is deprecated and will be removed in a future version. To retain the old behavior, explicitly call `result.infer_objects(copy=False)`. To opt-in to the future behavior, set `pd.set_option('future.no_silent_downcasting', True)`\n",
      "  df.replace('*', np.nan, inplace=True)\n"
     ]
    },
    {
     "name": "stdout",
     "output_type": "stream",
     "text": [
      "Estação: Piratininga, Ano: 2010, Dados ausentes de PM2.5: 8760/8760 (100.00%)\n"
     ]
    },
    {
     "name": "stderr",
     "output_type": "stream",
     "text": [
      "C:\\Users\\daniel\\AppData\\Local\\Temp\\ipykernel_18660\\1478680928.py:46: FutureWarning: Downcasting behavior in `replace` is deprecated and will be removed in a future version. To retain the old behavior, explicitly call `result.infer_objects(copy=False)`. To opt-in to the future behavior, set `pd.set_option('future.no_silent_downcasting', True)`\n",
      "  df.replace('*', np.nan, inplace=True)\n"
     ]
    },
    {
     "name": "stdout",
     "output_type": "stream",
     "text": [
      "Estação: Piratininga, Ano: 2009, Dados ausentes de PM2.5: 8760/8760 (100.00%)\n"
     ]
    },
    {
     "name": "stderr",
     "output_type": "stream",
     "text": [
      "C:\\Users\\daniel\\AppData\\Local\\Temp\\ipykernel_18660\\1478680928.py:71: DtypeWarning: Columns (1,2,3,4,5,6,7,8,9,10,11,12,13,14,15,16,17,18,19,20,21,22,23,24,25,26,27,28,29,30,31,32) have mixed types. Specify dtype option on import or set low_memory=False.\n",
      "  treated_df = pd.read_csv(treated_file_path, index_col='Data e Hora', parse_dates=True)\n"
     ]
    },
    {
     "name": "stdout",
     "output_type": "stream",
     "text": [
      "Estação: Cascata, Ano: 2022, Dados ausentes de PM2.5: 3961/8760 (45.22%)\n",
      "Estação: Cascata, Ano: 2021, Dados ausentes de PM2.5: 1539/8760 (17.57%)\n",
      "Estação: Cascata, Ano: 2020, Dados ausentes de PM2.5: 1147/8784 (13.06%)\n",
      "Estação: Cascata, Ano: 2019, Dados ausentes de PM2.5: 918/8760 (10.48%)\n",
      "Estação: Cascata, Ano: 2018, Dados ausentes de PM2.5: 1649/8760 (18.82%)\n",
      "Estação: Cascata, Ano: 2017, Dados ausentes de PM2.5: 1462/8760 (16.69%)\n",
      "Estação: Cascata, Ano: 2016, Dados ausentes de PM2.5: 2157/8784 (24.56%)\n",
      "Estação: Cascata, Ano: 2015, Dados ausentes de PM2.5: 7790/8760 (88.93%)\n"
     ]
    },
    {
     "name": "stderr",
     "output_type": "stream",
     "text": [
      "C:\\Users\\daniel\\AppData\\Local\\Temp\\ipykernel_18660\\1478680928.py:46: FutureWarning: Downcasting behavior in `replace` is deprecated and will be removed in a future version. To retain the old behavior, explicitly call `result.infer_objects(copy=False)`. To opt-in to the future behavior, set `pd.set_option('future.no_silent_downcasting', True)`\n",
      "  df.replace('*', np.nan, inplace=True)\n"
     ]
    },
    {
     "name": "stdout",
     "output_type": "stream",
     "text": [
      "Estação: Cascata, Ano: 2014, Dados ausentes de PM2.5: 8760/8760 (100.00%)\n"
     ]
    },
    {
     "name": "stderr",
     "output_type": "stream",
     "text": [
      "C:\\Users\\daniel\\AppData\\Local\\Temp\\ipykernel_18660\\1478680928.py:46: FutureWarning: Downcasting behavior in `replace` is deprecated and will be removed in a future version. To retain the old behavior, explicitly call `result.infer_objects(copy=False)`. To opt-in to the future behavior, set `pd.set_option('future.no_silent_downcasting', True)`\n",
      "  df.replace('*', np.nan, inplace=True)\n"
     ]
    },
    {
     "name": "stdout",
     "output_type": "stream",
     "text": [
      "Estação: Cascata, Ano: 2013, Dados ausentes de PM2.5: 8760/8760 (100.00%)\n"
     ]
    },
    {
     "name": "stderr",
     "output_type": "stream",
     "text": [
      "C:\\Users\\daniel\\AppData\\Local\\Temp\\ipykernel_18660\\1478680928.py:46: FutureWarning: Downcasting behavior in `replace` is deprecated and will be removed in a future version. To retain the old behavior, explicitly call `result.infer_objects(copy=False)`. To opt-in to the future behavior, set `pd.set_option('future.no_silent_downcasting', True)`\n",
      "  df.replace('*', np.nan, inplace=True)\n"
     ]
    },
    {
     "name": "stdout",
     "output_type": "stream",
     "text": [
      "Estação: Cascata, Ano: 2012, Dados ausentes de PM2.5: 8784/8784 (100.00%)\n"
     ]
    },
    {
     "name": "stderr",
     "output_type": "stream",
     "text": [
      "C:\\Users\\daniel\\AppData\\Local\\Temp\\ipykernel_18660\\1478680928.py:46: FutureWarning: Downcasting behavior in `replace` is deprecated and will be removed in a future version. To retain the old behavior, explicitly call `result.infer_objects(copy=False)`. To opt-in to the future behavior, set `pd.set_option('future.no_silent_downcasting', True)`\n",
      "  df.replace('*', np.nan, inplace=True)\n"
     ]
    },
    {
     "name": "stdout",
     "output_type": "stream",
     "text": [
      "Estação: Cascata, Ano: 2011, Dados ausentes de PM2.5: 8760/8760 (100.00%)\n"
     ]
    },
    {
     "name": "stderr",
     "output_type": "stream",
     "text": [
      "C:\\Users\\daniel\\AppData\\Local\\Temp\\ipykernel_18660\\1478680928.py:46: FutureWarning: Downcasting behavior in `replace` is deprecated and will be removed in a future version. To retain the old behavior, explicitly call `result.infer_objects(copy=False)`. To opt-in to the future behavior, set `pd.set_option('future.no_silent_downcasting', True)`\n",
      "  df.replace('*', np.nan, inplace=True)\n"
     ]
    },
    {
     "name": "stdout",
     "output_type": "stream",
     "text": [
      "Estação: Cascata, Ano: 2010, Dados ausentes de PM2.5: 8760/8760 (100.00%)\n"
     ]
    },
    {
     "name": "stderr",
     "output_type": "stream",
     "text": [
      "C:\\Users\\daniel\\AppData\\Local\\Temp\\ipykernel_18660\\1478680928.py:46: FutureWarning: Downcasting behavior in `replace` is deprecated and will be removed in a future version. To retain the old behavior, explicitly call `result.infer_objects(copy=False)`. To opt-in to the future behavior, set `pd.set_option('future.no_silent_downcasting', True)`\n",
      "  df.replace('*', np.nan, inplace=True)\n"
     ]
    },
    {
     "name": "stdout",
     "output_type": "stream",
     "text": [
      "Estação: Cascata, Ano: 2009, Dados ausentes de PM2.5: 8760/8760 (100.00%)\n"
     ]
    },
    {
     "name": "stderr",
     "output_type": "stream",
     "text": [
      "C:\\Users\\daniel\\AppData\\Local\\Temp\\ipykernel_18660\\1478680928.py:71: DtypeWarning: Columns (1,2,3,4,5,6,7,8,9,10,11,12,13,14,15,16,17,18,19,20,21,22,23,24,25,26,27,28,29,30,31,32) have mixed types. Specify dtype option on import or set low_memory=False.\n",
      "  treated_df = pd.read_csv(treated_file_path, index_col='Data e Hora', parse_dates=True)\n"
     ]
    }
   ],
   "source": [
    "import os\n",
    "import pandas as pd\n",
    "import numpy as np\n",
    "\n",
    "main_folder = \"data\"\n",
    "station_folders = [f for f in os.listdir(main_folder) if os.path.isdir(os.path.join(main_folder, f))]\n",
    "\n",
    "def get_skiprows(year, station):\n",
    "    if year == 2021 and station == \"Cascata\":\n",
    "        return [0, 1, 3]\n",
    "    elif year >= 2015:\n",
    "        return [0, 2]\n",
    "    else:\n",
    "        return None\n",
    "\n",
    "for station_folder in reversed(station_folders):\n",
    "    base_path = os.path.join(main_folder, station_folder)\n",
    "    files = [f for f in os.listdir(base_path) if f.endswith(\".xlsx\")]\n",
    "    \n",
    "    for file in reversed(files):\n",
    "        year = int(file.split(\"_\")[1].split(\".\")[0])\n",
    "        file_path = os.path.join(base_path, file)\n",
    "        skiprows = get_skiprows(year, station_folder)\n",
    "        df = pd.read_excel(file_path, skiprows=skiprows)\n",
    "            \n",
    "        if year < 2015:\n",
    "            df['Data'] = pd.to_datetime(df['Data'], format='%d/%m/%Y', errors='coerce')\n",
    "            df['Hora'] = pd.to_datetime(df['Hora'], format='%H:%M:%S', errors='coerce').dt.time\n",
    "            \n",
    "            # Combinar 'Data' e 'Hora' em 'Data e Hora'\n",
    "            df['Data e Hora'] = pd.to_datetime(df['Data'].astype(str) + ' ' + df['Hora'].astype(str), errors='coerce')\n",
    "            df = df.drop(columns=['Data', 'Hora'])\n",
    "        else:\n",
    "            df.rename(columns={df.columns[0]: 'Data e Hora'}, inplace=True)\n",
    "            df['Data e Hora'] = pd.to_datetime(df['Data e Hora'], format='%d-%m-%Y %H:%M:%S', errors='coerce')\n",
    "        \n",
    "        df = df[df['Data e Hora'].notna()]\n",
    "        df.set_index('Data e Hora', inplace=True)\n",
    "        \n",
    "        valid_columns = df.columns.intersection(column_rename_dict.keys())\n",
    "        df.rename(columns={col: column_rename_dict[col] for col in valid_columns}, inplace=True)\n",
    "        \n",
    "        df = df.dropna(axis=1, how='all')\n",
    "\n",
    "        # Verificar a quantidade de dados ausentes de PM2.5\n",
    "        df.replace('*', np.nan, inplace=True)\n",
    "        pm25_missing = df['PM2.5'].isna().sum()        \n",
    "        \n",
    "        pm25_total = len(df)\n",
    "        percentual = pm25_missing/pm25_total\n",
    "        print(f\"Estação: {station_folder}, Ano: {year}, Dados ausentes de PM2.5: {pm25_missing}/{pm25_total} ({percentual:.2%})\")\n",
    "        \n",
    "        # Salvar o arquivo tratado em uma pasta separada\n",
    "        treated_folder = os.path.join(\"tratados\", station_folder)\n",
    "        os.makedirs(treated_folder, exist_ok=True)\n",
    "        os.makedirs(os.path.join(treated_folder, \"csv\"), exist_ok=True)\n",
    "        os.makedirs(os.path.join(treated_folder, \"excel\"), exist_ok=True)\n",
    "        treated_file_path_csv = os.path.join(treated_folder,\"csv\", f\"{station_folder}_{year}_treated.csv\")\n",
    "        treated_file_path_xlsx = os.path.join(treated_folder,\"excel\", f\"{station_folder}_{year}_treated.xlsx\")\n",
    "        df.to_csv(treated_file_path_csv)\n",
    "        df.to_excel(treated_file_path_xlsx)\n",
    "\n",
    "    # Combinar os dados tratados de todos os anos para cada estação\n",
    "    treated_folder = os.path.join(\"tratados\",station_folder, \"csv\")\n",
    "    treated_files = [f for f in os.listdir(treated_folder) if f.endswith(\".csv\")]\n",
    "\n",
    "    \n",
    "    treated_dfs = []\n",
    "    for treated_file in treated_files:\n",
    "        treated_file_path = os.path.join(treated_folder, treated_file)\n",
    "        treated_df = pd.read_csv(treated_file_path, index_col='Data e Hora', parse_dates=True)\n",
    "        treated_dfs.append(treated_df)\n",
    "\n",
    "    combined_treated_data = pd.concat(treated_dfs, ignore_index=False, axis=0)\n",
    "    combined_treated_data.reset_index(inplace=True)\n",
    "    combined_treated_data.rename(columns={'index': 'Data e Hora'}, inplace=True)\n",
    "    \n",
    "    combined_treated_data.to_csv(f\"tratados/{station_folder}/csv/{station_folder}_combined_treated.csv\", index=False)\n",
    "    combined_treated_data.to_excel(f\"tratados/{station_folder}/excel/{station_folder}_combined_treated.xlsx\", index=False)\n"
   ],
   "metadata": {
    "collapsed": false,
    "ExecuteTime": {
     "end_time": "2024-03-19T21:03:24.314007Z",
     "start_time": "2024-03-19T20:47:16.755175Z"
    }
   },
   "id": "7d029bad5e2e590b"
  },
  {
   "cell_type": "code",
   "outputs": [
    {
     "name": "stdout",
     "output_type": "stream",
     "text": [
      "Análise descritiva para a estação: Cascata\n",
      "\n",
      "--------------------------------------------------\n",
      "Análise descritiva para a estação: Piratininga\n",
      "\n",
      "--------------------------------------------------\n"
     ]
    }
   ],
   "source": [
    "import os\n",
    "import pandas as pd\n",
    "import matplotlib.pyplot as plt\n",
    "\n",
    "treated_folder = \"tratados\"\n",
    "station_folders = [f for f in os.listdir(treated_folder) if os.path.isdir(os.path.join(treated_folder, f))]\n",
    "\n",
    "for station_folder in station_folders:\n",
    "    print(f\"Análise descritiva para a estação: {station_folder}\")\n",
    "    \n",
    "    treated_files = [f for f in os.listdir(os.path.join(treated_folder, station_folder)) if f.endswith(\".csv\")]\n",
    "    \n",
    "    for treated_file in treated_files:\n",
    "        year = int(treated_file.split(\"_\")[1])\n",
    "        treated_file_path = os.path.join(treated_folder, station_folder, treated_file)\n",
    "        df = pd.read_csv(treated_file_path, parse_dates=['Data e Hora'])\n",
    "        \n",
    "        if 'PM2.5' in df.columns:\n",
    "            print(f\"\\nAno: {year}\")\n",
    "            \n",
    "            # Estatísticas descritivas básicas\n",
    "            pm25_stats = df['PM2.5'].describe()\n",
    "            print(\"Estatísticas descritivas para PM2.5:\")\n",
    "            print(pm25_stats)\n",
    "            \n",
    "            # Verificar a distribuição dos valores de PM2.5 usando histograma\n",
    "            plt.figure(figsize=(8, 6))\n",
    "            plt.hist(df['PM2.5'], bins=20, edgecolor='black')\n",
    "            plt.xlabel('Valor de PM2.5')\n",
    "            plt.ylabel('Frequência')\n",
    "            plt.title(f'Distribuição dos valores de PM2.5 - Estação {station_folder} - Ano {year}')\n",
    "            plt.tight_layout()\n",
    "            plt.show()\n",
    "            \n",
    "            # Verificar a distribuição dos valores de PM2.5 usando gráfico de densidade\n",
    "            plt.figure(figsize=(8, 6))\n",
    "            df['PM2.5'].plot(kind='kde')\n",
    "            plt.xlabel('Valor de PM2.5')\n",
    "            plt.ylabel('Densidade')\n",
    "            plt.title(f'Distribuição dos valores de PM2.5 - Estação {station_folder} - Ano {year}')\n",
    "            plt.tight_layout()\n",
    "            plt.show()\n",
    "            \n",
    "            # Identificar possíveis outliers\n",
    "            q1 = df['PM2.5'].quantile(0.25)\n",
    "            q3 = df['PM2.5'].quantile(0.75)\n",
    "            iqr = q3 - q1\n",
    "            lower_bound = q1 - (1.5 * iqr)\n",
    "            upper_bound = q3 + (1.5 * iqr)\n",
    "            outliers = df[(df['PM2.5'] < lower_bound) | (df['PM2.5'] > upper_bound)]\n",
    "            print(f\"\\nPossíveis outliers para PM2.5 ({len(outliers)} ocorrências):\")\n",
    "            print(outliers['PM2.5'])\n",
    "        \n",
    "        else:\n",
    "            print(f\"\\nAno: {year}\")\n",
    "            print(\"A coluna 'PM2.5' não está presente nos dados.\")\n",
    "    \n",
    "    print(\"\\n\" + \"-\" * 50)\n"
   ],
   "metadata": {
    "collapsed": false,
    "ExecuteTime": {
     "end_time": "2024-03-19T21:03:24.329894Z",
     "start_time": "2024-03-19T21:03:24.316012Z"
    }
   },
   "id": "70c416c66d92ba",
   "execution_count": 4
  },
  {
   "cell_type": "code",
   "execution_count": 5,
   "outputs": [
    {
     "ename": "TypeError",
     "evalue": "no numeric data to plot",
     "output_type": "error",
     "traceback": [
      "\u001B[1;31m---------------------------------------------------------------------------\u001B[0m",
      "\u001B[1;31mTypeError\u001B[0m                                 Traceback (most recent call last)",
      "Cell \u001B[1;32mIn[5], line 19\u001B[0m\n\u001B[0;32m     16\u001B[0m \u001B[38;5;66;03m# Aumentando o tamanho do gráfico\u001B[39;00m\n\u001B[0;32m     17\u001B[0m plt\u001B[38;5;241m.\u001B[39mfigure(figsize\u001B[38;5;241m=\u001B[39m(\u001B[38;5;241m10\u001B[39m, \u001B[38;5;241m6\u001B[39m))  \n\u001B[1;32m---> 19\u001B[0m \u001B[43mcombined_data\u001B[49m\u001B[43m[\u001B[49m\u001B[38;5;124;43m'\u001B[39;49m\u001B[38;5;124;43mPM2.5\u001B[39;49m\u001B[38;5;124;43m'\u001B[39;49m\u001B[43m]\u001B[49m\u001B[38;5;241;43m.\u001B[39;49m\u001B[43mplot\u001B[49m\u001B[43m(\u001B[49m\u001B[43m)\u001B[49m\n\u001B[0;32m     20\u001B[0m plt\u001B[38;5;241m.\u001B[39mtitle(\u001B[38;5;124mf\u001B[39m\u001B[38;5;124m\"\u001B[39m\u001B[38;5;132;01m{\u001B[39;00mstation_folder\u001B[38;5;132;01m}\u001B[39;00m\u001B[38;5;124m PM2.5\u001B[39m\u001B[38;5;124m\"\u001B[39m)\n\u001B[0;32m     21\u001B[0m plt\u001B[38;5;241m.\u001B[39mshow()\n",
      "File \u001B[1;32mC:\\dev\\ufjf\\pm25-plots\\venv\\Lib\\site-packages\\pandas\\plotting\\_core.py:1030\u001B[0m, in \u001B[0;36mPlotAccessor.__call__\u001B[1;34m(self, *args, **kwargs)\u001B[0m\n\u001B[0;32m   1027\u001B[0m             label_name \u001B[38;5;241m=\u001B[39m label_kw \u001B[38;5;129;01mor\u001B[39;00m data\u001B[38;5;241m.\u001B[39mcolumns\n\u001B[0;32m   1028\u001B[0m             data\u001B[38;5;241m.\u001B[39mcolumns \u001B[38;5;241m=\u001B[39m label_name\n\u001B[1;32m-> 1030\u001B[0m \u001B[38;5;28;01mreturn\u001B[39;00m \u001B[43mplot_backend\u001B[49m\u001B[38;5;241;43m.\u001B[39;49m\u001B[43mplot\u001B[49m\u001B[43m(\u001B[49m\u001B[43mdata\u001B[49m\u001B[43m,\u001B[49m\u001B[43m \u001B[49m\u001B[43mkind\u001B[49m\u001B[38;5;241;43m=\u001B[39;49m\u001B[43mkind\u001B[49m\u001B[43m,\u001B[49m\u001B[43m \u001B[49m\u001B[38;5;241;43m*\u001B[39;49m\u001B[38;5;241;43m*\u001B[39;49m\u001B[43mkwargs\u001B[49m\u001B[43m)\u001B[49m\n",
      "File \u001B[1;32mC:\\dev\\ufjf\\pm25-plots\\venv\\Lib\\site-packages\\pandas\\plotting\\_matplotlib\\__init__.py:71\u001B[0m, in \u001B[0;36mplot\u001B[1;34m(data, kind, **kwargs)\u001B[0m\n\u001B[0;32m     69\u001B[0m         kwargs[\u001B[38;5;124m\"\u001B[39m\u001B[38;5;124max\u001B[39m\u001B[38;5;124m\"\u001B[39m] \u001B[38;5;241m=\u001B[39m \u001B[38;5;28mgetattr\u001B[39m(ax, \u001B[38;5;124m\"\u001B[39m\u001B[38;5;124mleft_ax\u001B[39m\u001B[38;5;124m\"\u001B[39m, ax)\n\u001B[0;32m     70\u001B[0m plot_obj \u001B[38;5;241m=\u001B[39m PLOT_CLASSES[kind](data, \u001B[38;5;241m*\u001B[39m\u001B[38;5;241m*\u001B[39mkwargs)\n\u001B[1;32m---> 71\u001B[0m \u001B[43mplot_obj\u001B[49m\u001B[38;5;241;43m.\u001B[39;49m\u001B[43mgenerate\u001B[49m\u001B[43m(\u001B[49m\u001B[43m)\u001B[49m\n\u001B[0;32m     72\u001B[0m plot_obj\u001B[38;5;241m.\u001B[39mdraw()\n\u001B[0;32m     73\u001B[0m \u001B[38;5;28;01mreturn\u001B[39;00m plot_obj\u001B[38;5;241m.\u001B[39mresult\n",
      "File \u001B[1;32mC:\\dev\\ufjf\\pm25-plots\\venv\\Lib\\site-packages\\pandas\\plotting\\_matplotlib\\core.py:499\u001B[0m, in \u001B[0;36mMPLPlot.generate\u001B[1;34m(self)\u001B[0m\n\u001B[0;32m    497\u001B[0m \u001B[38;5;129m@final\u001B[39m\n\u001B[0;32m    498\u001B[0m \u001B[38;5;28;01mdef\u001B[39;00m \u001B[38;5;21mgenerate\u001B[39m(\u001B[38;5;28mself\u001B[39m) \u001B[38;5;241m-\u001B[39m\u001B[38;5;241m>\u001B[39m \u001B[38;5;28;01mNone\u001B[39;00m:\n\u001B[1;32m--> 499\u001B[0m     \u001B[38;5;28;43mself\u001B[39;49m\u001B[38;5;241;43m.\u001B[39;49m\u001B[43m_compute_plot_data\u001B[49m\u001B[43m(\u001B[49m\u001B[43m)\u001B[49m\n\u001B[0;32m    500\u001B[0m     fig \u001B[38;5;241m=\u001B[39m \u001B[38;5;28mself\u001B[39m\u001B[38;5;241m.\u001B[39mfig\n\u001B[0;32m    501\u001B[0m     \u001B[38;5;28mself\u001B[39m\u001B[38;5;241m.\u001B[39m_make_plot(fig)\n",
      "File \u001B[1;32mC:\\dev\\ufjf\\pm25-plots\\venv\\Lib\\site-packages\\pandas\\plotting\\_matplotlib\\core.py:698\u001B[0m, in \u001B[0;36mMPLPlot._compute_plot_data\u001B[1;34m(self)\u001B[0m\n\u001B[0;32m    696\u001B[0m \u001B[38;5;66;03m# no non-numeric frames or series allowed\u001B[39;00m\n\u001B[0;32m    697\u001B[0m \u001B[38;5;28;01mif\u001B[39;00m is_empty:\n\u001B[1;32m--> 698\u001B[0m     \u001B[38;5;28;01mraise\u001B[39;00m \u001B[38;5;167;01mTypeError\u001B[39;00m(\u001B[38;5;124m\"\u001B[39m\u001B[38;5;124mno numeric data to plot\u001B[39m\u001B[38;5;124m\"\u001B[39m)\n\u001B[0;32m    700\u001B[0m \u001B[38;5;28mself\u001B[39m\u001B[38;5;241m.\u001B[39mdata \u001B[38;5;241m=\u001B[39m numeric_data\u001B[38;5;241m.\u001B[39mapply(\u001B[38;5;28mtype\u001B[39m(\u001B[38;5;28mself\u001B[39m)\u001B[38;5;241m.\u001B[39m_convert_to_ndarray)\n",
      "\u001B[1;31mTypeError\u001B[0m: no numeric data to plot"
     ]
    },
    {
     "data": {
      "text/plain": "<Figure size 1000x600 with 1 Axes>",
      "image/png": "[encoded data removed]"
     },
     "metadata": {},
     "output_type": "display_data"
    }
   ],
   "source": [
    "import pandas as pd\n",
    "import os\n",
    "import matplotlib.pyplot as plt\n",
    "\n",
    "# pega os nomes da estacoes\n",
    "main_folder = \"data\"\n",
    "station_folders = [f for f in os.listdir(main_folder) if os.path.isdir(os.path.join(main_folder, f))]\n",
    "\n",
    "#plota os graficos\n",
    "for station_folder in reversed(station_folders):\n",
    "    combined_data = pd.read_excel(f\"tratados/{station_folder}/excel/{station_folder}_combined_treated.xlsx\")\n",
    "    # Especificando o formato correto da data\n",
    "    combined_data['Data e Hora'] = pd.to_datetime(combined_data['Data e Hora'], format='%Y-%m-%d %H:%M:%S', errors='coerce').dt.date\n",
    "    combined_data = combined_data.set_index('Data e Hora')\n",
    "    \n",
    "    # Aumentando o tamanho do gráfico\n",
    "    plt.figure(figsize=(10, 6))  \n",
    "    \n",
    "    combined_data['PM2.5'].plot()\n",
    "    plt.title(f\"{station_folder} PM2.5\")\n",
    "    plt.show()\n"
   ],
   "metadata": {
    "collapsed": false,
    "ExecuteTime": {
     "end_time": "2024-03-19T21:06:49.648057Z",
     "start_time": "2024-03-19T21:03:24.330899Z"
    }
   },
   "id": "167e26e005d6ce1e"
  },
  {
   "cell_type": "code",
   "outputs": [],
   "source": [],
   "metadata": {
    "collapsed": false,
    "ExecuteTime": {
     "end_time": "2024-03-19T21:06:49.650058Z",
     "start_time": "2024-03-19T21:06:49.649060Z"
    }
   },
   "id": "86a5af08863f154",
   "execution_count": null
  }
 ],
 "metadata": {
  "kernelspec": {
   "display_name": "Python 3",
   "language": "python",
   "name": "python3"
  },
  "language_info": {
   "codemirror_mode": {
    "name": "ipython",
    "version": 2
   },
   "file_extension": ".py",
   "mimetype": "text/x-python",
   "name": "python",
   "nbconvert_exporter": "python",
   "pygments_lexer": "ipython2",
   "version": "2.7.6"
  }
 },
 "nbformat": 4,
 "nbformat_minor": 5
}
