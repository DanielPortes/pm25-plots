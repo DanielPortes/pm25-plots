{
 "cells": [
  {
   "cell_type": "code",
   "execution_count": 14,
   "outputs": [],
   "source": [
    "# importing libraries\n",
    "import os\n",
    "import pandas as pd\n",
    "import matplotlib.pyplot as plt"
   ],
   "metadata": {
    "collapsed": false,
    "ExecuteTime": {
     "end_time": "2024-03-11T02:55:39.203785Z",
     "start_time": "2024-03-11T02:55:39.199271Z"
    }
   },
   "id": "f4553a7fd327318"
  },
  {
   "cell_type": "code",
   "execution_count": 15,
   "outputs": [
    {
     "data": {
      "text/plain": "['Cascata', 'Piratininga']"
     },
     "execution_count": 15,
     "metadata": {},
     "output_type": "execute_result"
    }
   ],
   "source": [
    "main_folder = \"data\"\n",
    "\n",
    "station_folders = [f for f in os.listdir(main_folder) if os.path.isdir(os.path.join(main_folder, f))]\n",
    "station_folders"
   ],
   "metadata": {
    "collapsed": false,
    "ExecuteTime": {
     "end_time": "2024-03-11T02:55:39.222Z",
     "start_time": "2024-03-11T02:55:39.205324Z"
    }
   },
   "id": "7a92312fd77e3a44"
  },
  {
   "cell_type": "code",
   "execution_count": 16,
   "outputs": [],
   "source": [
    "column_rename_dict = {\n",
    "    \"PM 2,5\": \"PM2.5\",\n",
    "    \"Partículas Respiráveis (<2,5µm)(µg/m3)\": \"PM2.5\",\n",
    "    \"Partículas Inaláveis (<10µm)(µg/m3)\": \"PM10\",\n",
    "    \"Temperatura (ºC)\": \"Temperatura\",\n",
    "    \"Tº\": \"Temperatura\",\n",
    "    \"Radiação Solar (W/m2)\": \"Radiação Solar\",\n",
    "    \"Monóxido de Carbono (ppm)\": \"Monóxido de Carbono\",\n",
    "    \"CO\": \"Monóxido de Carbono\",\n",
    "    \"Velocidade Escalar do Vento (m/s)\": \"Velocidade do Vento\",\n",
    "    \"Direção Escalar do Vento (grau)\": \"Direção do Vento\",\n",
    "    \"Umidade relativa (%)\": \"Umidade Relativa\",\n",
    "    \"Precipitação Pluviométrica (mm)\": \"Precipitação\",\n",
    "    \"Pressão Atmosférica (mmHg)\": \"Pressão Atmosférica\",\n",
    "    \"Dióxido de enxofre (ppb)\": \"Dióxido de Enxofre\",\n",
    "    \"Ozônio (ppb)\": \"Ozônio\",\n",
    "    \"Monóxido de Nitrogênio (ppb)\": \"Monóxido de Nitrogênio\",\n",
    "    \"Óxidos de Nitrogênio (ppb)\": \"Óxidos de Nitrogênio\",\n",
    "    \"Dióxido de Nitrogênio (ppb)\": \"Dióxido de Nitrogênio\",\n",
    "    \"HCT (ppm)\": \"HCT\",\n",
    "    \"CH4 (ppm)\": \"Metano\",\n",
    "    \"HCNM (ppm)\": \"HCNM\",\n",
    "    \"Monóxido de Carbono Média Móvel (ppm)\": \"Monóxido de Carbono Média Móvel\",\n",
    "    \"Data\": \"Data\",\n",
    "    \"Hora\": \"Hora\",\n",
    "    \"Média Horária\": \"Média Horária\",\n",
    "    \"Seno da direção do vento\": \"Seno da Direção do Vento\",\n",
    "    \"Cosseno da direção do vento\": \"Cosseno da Direção do Vento\",\n",
    "    \"Seno ponderado\": \"Seno Ponderado\",\n",
    "    \"Cosseno ponderado\": \"Cosseno Ponderado\",\n",
    "    \"PM10\": \"PM10\",\n",
    "    \"NO2\": \"Dióxido de Nitrogênio\",\n",
    "    \"O3\": \"Ozônio\",\n",
    "    \"SO2\": \"Dióxido de Enxofre\",\n",
    "    \"DV\": \"Direção do Vento\",\n",
    "    \"PP\": \"Pressão Atmosférica\",\n",
    "    \"PA\": \"Precipitação\",\n",
    "    \"VV\": \"Velocidade do Vento\",\n",
    "    \"RS\": \"Radiação Solar\",\n",
    "    \"UR\": \"Umidade Relativa\"\n",
    "}\n",
    "import pandas as pd\n",
    "import os\n",
    "\n",
    "# Supondo que column_rename_dict já esteja definido\n",
    "\n",
    "for station_folder in station_folders:\n",
    "    dfs_until_2014 = [] # Lista para acumular DataFrames\n",
    "    dfs_from_2015 = [] # Lista para acumular DataFrames\n",
    "\n",
    "    files = [f for f in os.listdir(os.path.join(main_folder, station_folder)) if f.endswith(\".xlsx\")]\n",
    "    for file in files:\n",
    "        year = int(file.split(\"_\")[1].split(\".\")[0])\n",
    "        file_path = os.path.join(main_folder, station_folder, file)\n",
    "        df = pd.read_excel(file_path, skiprows=lambda x: x in [0, 2] if year >= 2015 else None)\n",
    "\n",
    "        if year < 2015:\n",
    "            df['Data'] = pd.to_datetime(df['Data']).dt.date\n",
    "            dfs_until_2014.append(df)\n",
    "        else:\n",
    "            if 'Data e Hora' not in df.columns:\n",
    "                df.rename(columns={df.columns[0]: 'Data e Hora'}, inplace=True)\n",
    "            df['Data e Hora'] = df['Data e Hora'].astype(str)\n",
    "            df[['Data', 'Hora']] = df['Data e Hora'].str.split(' ', n=1, expand=True)\n",
    "            df = df.drop(columns=['Data e Hora'])\n",
    "            cols = df.columns.tolist()\n",
    "            cols = cols[-2:] + cols[:-2]\n",
    "            df = df[cols]\n",
    "            dfs_from_2015.append(df)\n",
    "\n",
    "    # Concatenando os DataFrames acumulados\n",
    "    combined_data = pd.concat(dfs_until_2014 + dfs_from_2015, ignore_index=True)\n",
    "\n",
    "    # Aplicando renomeação de colunas uma única vez\n",
    "    combined_data.rename(columns=column_rename_dict, inplace=True)\n",
    "\n",
    "    # Filtrando e convertendo a coluna 'Data'\n",
    "    combined_data = combined_data[combined_data['Data'] != '00/01/1900']\n",
    "    combined_data['Data'] = pd.to_datetime(combined_data['Data'], format='%d-%m-%Y', errors='coerce')\n",
    "    combined_data = combined_data.dropna(subset=['Data'])\n",
    "    combined_data['Data'] = combined_data['Data'].dt.strftime('%d-%m-%Y')\n",
    "\n",
    "    # Salvando o DataFrame combinado\n",
    "    combined_data.to_excel(f\"{station_folder}_combined.xlsx\", index=False)\n"
   ],
   "metadata": {
    "collapsed": false,
    "ExecuteTime": {
     "end_time": "2024-03-11T02:59:41.277294Z",
     "start_time": "2024-03-11T02:55:39.223005Z"
    }
   },
   "id": "7d029bad5e2e590b"
  },
  {
   "cell_type": "code",
   "execution_count": 18,
   "outputs": [
    {
     "ename": "TypeError",
     "evalue": "no numeric data to plot",
     "output_type": "error",
     "traceback": [
      "\u001B[1;31m---------------------------------------------------------------------------\u001B[0m",
      "\u001B[1;31mTypeError\u001B[0m                                 Traceback (most recent call last)",
      "Cell \u001B[1;32mIn[18], line 13\u001B[0m\n\u001B[0;32m     11\u001B[0m combined_data[\u001B[38;5;124m'\u001B[39m\u001B[38;5;124mData\u001B[39m\u001B[38;5;124m'\u001B[39m] \u001B[38;5;241m=\u001B[39m pd\u001B[38;5;241m.\u001B[39mto_datetime(combined_data[\u001B[38;5;124m'\u001B[39m\u001B[38;5;124mData\u001B[39m\u001B[38;5;124m'\u001B[39m], \u001B[38;5;28mformat\u001B[39m\u001B[38;5;241m=\u001B[39m\u001B[38;5;124m\"\u001B[39m\u001B[38;5;132;01m%d\u001B[39;00m\u001B[38;5;124m-\u001B[39m\u001B[38;5;124m%\u001B[39m\u001B[38;5;124mm-\u001B[39m\u001B[38;5;124m%\u001B[39m\u001B[38;5;124mY\u001B[39m\u001B[38;5;124m\"\u001B[39m)\n\u001B[0;32m     12\u001B[0m combined_data \u001B[38;5;241m=\u001B[39m combined_data\u001B[38;5;241m.\u001B[39mset_index(\u001B[38;5;124m'\u001B[39m\u001B[38;5;124mData\u001B[39m\u001B[38;5;124m'\u001B[39m)\n\u001B[1;32m---> 13\u001B[0m \u001B[43mcombined_data\u001B[49m\u001B[43m[\u001B[49m\u001B[38;5;124;43m'\u001B[39;49m\u001B[38;5;124;43mPM2.5\u001B[39;49m\u001B[38;5;124;43m'\u001B[39;49m\u001B[43m]\u001B[49m\u001B[38;5;241;43m.\u001B[39;49m\u001B[43mplot\u001B[49m\u001B[43m(\u001B[49m\u001B[43m)\u001B[49m\n\u001B[0;32m     14\u001B[0m plt\u001B[38;5;241m.\u001B[39mtitle(\u001B[38;5;124mf\u001B[39m\u001B[38;5;124m\"\u001B[39m\u001B[38;5;132;01m{\u001B[39;00mstation_folder\u001B[38;5;132;01m}\u001B[39;00m\u001B[38;5;124m PM2.5\u001B[39m\u001B[38;5;124m\"\u001B[39m)\n\u001B[0;32m     15\u001B[0m plt\u001B[38;5;241m.\u001B[39mshow()\n",
      "File \u001B[1;32mC:\\dev\\scripts\\plots\\venv\\Lib\\site-packages\\pandas\\plotting\\_core.py:1031\u001B[0m, in \u001B[0;36mPlotAccessor.__call__\u001B[1;34m(self, *args, **kwargs)\u001B[0m\n\u001B[0;32m   1028\u001B[0m             label_name \u001B[38;5;241m=\u001B[39m label_kw \u001B[38;5;129;01mor\u001B[39;00m data\u001B[38;5;241m.\u001B[39mcolumns\n\u001B[0;32m   1029\u001B[0m             data\u001B[38;5;241m.\u001B[39mcolumns \u001B[38;5;241m=\u001B[39m label_name\n\u001B[1;32m-> 1031\u001B[0m \u001B[38;5;28;01mreturn\u001B[39;00m \u001B[43mplot_backend\u001B[49m\u001B[38;5;241;43m.\u001B[39;49m\u001B[43mplot\u001B[49m\u001B[43m(\u001B[49m\u001B[43mdata\u001B[49m\u001B[43m,\u001B[49m\u001B[43m \u001B[49m\u001B[43mkind\u001B[49m\u001B[38;5;241;43m=\u001B[39;49m\u001B[43mkind\u001B[49m\u001B[43m,\u001B[49m\u001B[43m \u001B[49m\u001B[38;5;241;43m*\u001B[39;49m\u001B[38;5;241;43m*\u001B[39;49m\u001B[43mkwargs\u001B[49m\u001B[43m)\u001B[49m\n",
      "File \u001B[1;32mC:\\dev\\scripts\\plots\\venv\\Lib\\site-packages\\pandas\\plotting\\_matplotlib\\__init__.py:71\u001B[0m, in \u001B[0;36mplot\u001B[1;34m(data, kind, **kwargs)\u001B[0m\n\u001B[0;32m     69\u001B[0m         kwargs[\u001B[38;5;124m\"\u001B[39m\u001B[38;5;124max\u001B[39m\u001B[38;5;124m\"\u001B[39m] \u001B[38;5;241m=\u001B[39m \u001B[38;5;28mgetattr\u001B[39m(ax, \u001B[38;5;124m\"\u001B[39m\u001B[38;5;124mleft_ax\u001B[39m\u001B[38;5;124m\"\u001B[39m, ax)\n\u001B[0;32m     70\u001B[0m plot_obj \u001B[38;5;241m=\u001B[39m PLOT_CLASSES[kind](data, \u001B[38;5;241m*\u001B[39m\u001B[38;5;241m*\u001B[39mkwargs)\n\u001B[1;32m---> 71\u001B[0m \u001B[43mplot_obj\u001B[49m\u001B[38;5;241;43m.\u001B[39;49m\u001B[43mgenerate\u001B[49m\u001B[43m(\u001B[49m\u001B[43m)\u001B[49m\n\u001B[0;32m     72\u001B[0m plot_obj\u001B[38;5;241m.\u001B[39mdraw()\n\u001B[0;32m     73\u001B[0m \u001B[38;5;28;01mreturn\u001B[39;00m plot_obj\u001B[38;5;241m.\u001B[39mresult\n",
      "File \u001B[1;32mC:\\dev\\scripts\\plots\\venv\\Lib\\site-packages\\pandas\\plotting\\_matplotlib\\core.py:451\u001B[0m, in \u001B[0;36mMPLPlot.generate\u001B[1;34m(self)\u001B[0m\n\u001B[0;32m    449\u001B[0m \u001B[38;5;28;01mdef\u001B[39;00m \u001B[38;5;21mgenerate\u001B[39m(\u001B[38;5;28mself\u001B[39m) \u001B[38;5;241m-\u001B[39m\u001B[38;5;241m>\u001B[39m \u001B[38;5;28;01mNone\u001B[39;00m:\n\u001B[0;32m    450\u001B[0m     \u001B[38;5;28mself\u001B[39m\u001B[38;5;241m.\u001B[39m_args_adjust()\n\u001B[1;32m--> 451\u001B[0m     \u001B[38;5;28;43mself\u001B[39;49m\u001B[38;5;241;43m.\u001B[39;49m\u001B[43m_compute_plot_data\u001B[49m\u001B[43m(\u001B[49m\u001B[43m)\u001B[49m\n\u001B[0;32m    452\u001B[0m     \u001B[38;5;28mself\u001B[39m\u001B[38;5;241m.\u001B[39m_setup_subplots()\n\u001B[0;32m    453\u001B[0m     \u001B[38;5;28mself\u001B[39m\u001B[38;5;241m.\u001B[39m_make_plot()\n",
      "File \u001B[1;32mC:\\dev\\scripts\\plots\\venv\\Lib\\site-packages\\pandas\\plotting\\_matplotlib\\core.py:636\u001B[0m, in \u001B[0;36mMPLPlot._compute_plot_data\u001B[1;34m(self)\u001B[0m\n\u001B[0;32m    634\u001B[0m \u001B[38;5;66;03m# no non-numeric frames or series allowed\u001B[39;00m\n\u001B[0;32m    635\u001B[0m \u001B[38;5;28;01mif\u001B[39;00m is_empty:\n\u001B[1;32m--> 636\u001B[0m     \u001B[38;5;28;01mraise\u001B[39;00m \u001B[38;5;167;01mTypeError\u001B[39;00m(\u001B[38;5;124m\"\u001B[39m\u001B[38;5;124mno numeric data to plot\u001B[39m\u001B[38;5;124m\"\u001B[39m)\n\u001B[0;32m    638\u001B[0m \u001B[38;5;28mself\u001B[39m\u001B[38;5;241m.\u001B[39mdata \u001B[38;5;241m=\u001B[39m numeric_data\u001B[38;5;241m.\u001B[39mapply(\u001B[38;5;28mself\u001B[39m\u001B[38;5;241m.\u001B[39m_convert_to_ndarray)\n",
      "\u001B[1;31mTypeError\u001B[0m: no numeric data to plot"
     ]
    }
   ],
   "source": [
    "import pandas as pd\n",
    "import os\n",
    "import matplotlib.pyplot as plt\n",
    "\n",
    "main_folder = \"data\"\n",
    "station_folders = [f for f in os.listdir(main_folder) if os.path.isdir(os.path.join(main_folder, f))]\n",
    "\n",
    "for station_folder in reversed(station_folders):\n",
    "    combined_data = pd.read_excel(f\"{station_folder}_combined.xlsx\")\n",
    "    # Especificando o formato correto da data\n",
    "    combined_data['Data'] = pd.to_datetime(combined_data['Data'], format=\"%d-%m-%Y\")\n",
    "    combined_data = combined_data.set_index('Data')\n",
    "    combined_data['PM2.5'].plot()\n",
    "    plt.title(f\"{station_folder} PM2.5\")\n",
    "    plt.show()\n"
   ],
   "metadata": {
    "collapsed": false,
    "ExecuteTime": {
     "end_time": "2024-03-11T03:02:59.758227Z",
     "start_time": "2024-03-11T03:02:10.185947Z"
    }
   },
   "id": "167e26e005d6ce1e"
  },
  {
   "cell_type": "code",
   "outputs": [],
   "source": [],
   "metadata": {
    "collapsed": false,
    "ExecuteTime": {
     "end_time": "2024-03-11T03:00:37.277780Z",
     "start_time": "2024-03-11T03:00:37.277780Z"
    }
   },
   "id": "208e27b787e39f1e"
  }
 ],
 "metadata": {
  "kernelspec": {
   "display_name": "Python 3",
   "language": "python",
   "name": "python3"
  },
  "language_info": {
   "codemirror_mode": {
    "name": "ipython",
    "version": 2
   },
   "file_extension": ".py",
   "mimetype": "text/x-python",
   "name": "python",
   "nbconvert_exporter": "python",
   "pygments_lexer": "ipython2",
   "version": "2.7.6"
  }
 },
 "nbformat": 4,
 "nbformat_minor": 5
}
