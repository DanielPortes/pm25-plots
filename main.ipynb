{
 "cells": [
  {
   "cell_type": "code",
   "execution_count": null,
   "id": "initial_id",
   "metadata": {
    "collapsed": true
   },
   "outputs": [],
   "source": [
    "# model LSTM\n",
    "import torch\n",
    "import torch.nn as nn\n",
    "import torch.nn.functional as F\n",
    "import random\n",
    "from torch.autograd import Variable\n",
    "import numpy as np\n",
    "import torch.nn.init as init\n",
    "\n",
    "\n",
    "\"\"\"\n",
    "    LSTM model\n",
    "\"\"\"\n",
    "\n",
    "class LSTM(nn.Module):\n",
    "    def __init__(self, args):\n",
    "        super(LSTM, self).__init__()\n",
    "        \n",
    "        self.hidden_dim = args.lstm_hidden_dim\n",
    "        self.num_layers = args.lstm_num_layers\n",
    "        V = args.embed_num\n",
    "        D = args.embed_dim\n",
    "        C = args.class_num\n",
    "        self.embed = nn.Embedding(V, D, padding_idx=args.paddingId)\n",
    "        # pretrained  embedding\n",
    "        if args.word_Embedding:\n",
    "            self.embed.weight.data.copy_(args.pretrained_weight)\n",
    "            \n",
    "        # lstm\n",
    "        self.lstm = nn.LSTM(D, self.hidden_dim, dropout=args.dropout, num_layers=self.num_layers)\n",
    "        \n",
    "        # linear\n",
    "        self.hidden2label = nn.Linear(self.hidden_dim, C)\n",
    "        \n",
    "        # dropout\n",
    "        self.dropout = nn.Dropout(args.dropout)\n",
    "        self.dropout_embed = nn.Dropout(args.dropout_embed)\n",
    "        \n",
    "    def forward(self, x):\n",
    "        embed = self.embed(x)\n",
    "        embed = self.dropout_embed(embed)\n",
    "        x = embed.view(len(x), embed.size(1), -1)\n",
    "        # lstm\n",
    "        lstm_out, _ = self.lstm(x)\n",
    "        lstm_out = torch.transpose(lstm_out, 0, 1)\n",
    "        lstm_out = torch.transpose(lstm_out, 1, 2)\n",
    "        # pooling\n",
    "        lstm_out = F.tanh(lstm_out)\n",
    "        lstm_out = F.max_pool1d(lstm_out, lstm_out.size(2)).squeeze(2)\n",
    "        lstm_out = F.tanh(lstm_out)\n",
    "        # linear\n",
    "        logit = self.hidden2label(lstm_out)\n",
    "        return logit"
   ]
  }
 ],
 "metadata": {
  "kernelspec": {
   "display_name": "Python 3",
   "language": "python",
   "name": "python3"
  },
  "language_info": {
   "codemirror_mode": {
    "name": "ipython",
    "version": 2
   },
   "file_extension": ".py",
   "mimetype": "text/x-python",
   "name": "python",
   "nbconvert_exporter": "python",
   "pygments_lexer": "ipython2",
   "version": "2.7.6"
  }
 },
 "nbformat": 4,
 "nbformat_minor": 5
}
